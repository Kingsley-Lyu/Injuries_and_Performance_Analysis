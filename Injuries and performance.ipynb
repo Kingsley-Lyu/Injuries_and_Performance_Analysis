{
 "cells": [
  {
   "cell_type": "code",
   "execution_count": 15,
   "id": "a5f9b9f4-fd58-4513-ab8d-1ec2c2dcec1d",
   "metadata": {},
   "outputs": [],
   "source": [
    "import pandas as pd\n",
    "import numpy as np\n",
    "import seaborn as sns\n",
    "import matplotlib.pyplot as plt\n",
    "import warnings\n",
    "#Avoiding the clutter\n",
    "warnings.filterwarnings('ignore')\n",
    "#Magic command, just display plots directly below the code cells\n",
    "%matplotlib inline"
   ]
  },
  {
   "cell_type": "code",
   "execution_count": 7,
   "id": "c3f939eb-3d3d-4397-8038-2d861f5fda1a",
   "metadata": {},
   "outputs": [
    {
     "data": {
      "text/html": [
       "<div>\n",
       "<style scoped>\n",
       "    .dataframe tbody tr th:only-of-type {\n",
       "        vertical-align: middle;\n",
       "    }\n",
       "\n",
       "    .dataframe tbody tr th {\n",
       "        vertical-align: top;\n",
       "    }\n",
       "\n",
       "    .dataframe thead th {\n",
       "        text-align: right;\n",
       "    }\n",
       "</style>\n",
       "<table border=\"1\" class=\"dataframe\">\n",
       "  <thead>\n",
       "    <tr style=\"text-align: right;\">\n",
       "      <th></th>\n",
       "      <th>Name</th>\n",
       "      <th>Team Name</th>\n",
       "      <th>Position</th>\n",
       "      <th>Age</th>\n",
       "      <th>Season</th>\n",
       "      <th>FIFA rating</th>\n",
       "      <th>Injury</th>\n",
       "      <th>Date of Injury</th>\n",
       "      <th>Date of return</th>\n",
       "      <th>Match results before injury</th>\n",
       "      <th>...</th>\n",
       "      <th>Unnamed: 32</th>\n",
       "      <th>Unnamed: 33</th>\n",
       "      <th>Unnamed: 34</th>\n",
       "      <th>Unnamed: 35</th>\n",
       "      <th>Unnamed: 36</th>\n",
       "      <th>Unnamed: 37</th>\n",
       "      <th>Unnamed: 38</th>\n",
       "      <th>Unnamed: 39</th>\n",
       "      <th>Unnamed: 40</th>\n",
       "      <th>Unnamed: 41</th>\n",
       "    </tr>\n",
       "  </thead>\n",
       "  <tbody>\n",
       "    <tr>\n",
       "      <th>0</th>\n",
       "      <td>NaN</td>\n",
       "      <td>NaN</td>\n",
       "      <td>NaN</td>\n",
       "      <td>NaN</td>\n",
       "      <td>NaN</td>\n",
       "      <td>NaN</td>\n",
       "      <td>NaN</td>\n",
       "      <td>NaN</td>\n",
       "      <td>NaN</td>\n",
       "      <td>Match 1</td>\n",
       "      <td>...</td>\n",
       "      <td>NaN</td>\n",
       "      <td>NaN</td>\n",
       "      <td>Match 2</td>\n",
       "      <td>NaN</td>\n",
       "      <td>NaN</td>\n",
       "      <td>NaN</td>\n",
       "      <td>Match 3</td>\n",
       "      <td>NaN</td>\n",
       "      <td>NaN</td>\n",
       "      <td>NaN</td>\n",
       "    </tr>\n",
       "    <tr>\n",
       "      <th>1</th>\n",
       "      <td>NaN</td>\n",
       "      <td>NaN</td>\n",
       "      <td>NaN</td>\n",
       "      <td>NaN</td>\n",
       "      <td>NaN</td>\n",
       "      <td>NaN</td>\n",
       "      <td>NaN</td>\n",
       "      <td>NaN</td>\n",
       "      <td>NaN</td>\n",
       "      <td>Result</td>\n",
       "      <td>...</td>\n",
       "      <td>GD</td>\n",
       "      <td>Player rating</td>\n",
       "      <td>Result</td>\n",
       "      <td>Opposition</td>\n",
       "      <td>GD</td>\n",
       "      <td>Player rating</td>\n",
       "      <td>Result</td>\n",
       "      <td>Opposition</td>\n",
       "      <td>GD</td>\n",
       "      <td>Player rating</td>\n",
       "    </tr>\n",
       "    <tr>\n",
       "      <th>2</th>\n",
       "      <td>Jamaal Lascelles</td>\n",
       "      <td>Newcastle</td>\n",
       "      <td>Center Back</td>\n",
       "      <td>26.0</td>\n",
       "      <td>2019/20</td>\n",
       "      <td>77.0</td>\n",
       "      <td>Knee injury</td>\n",
       "      <td>Nov 9, 2019</td>\n",
       "      <td>Jan 13, 2020</td>\n",
       "      <td>draw</td>\n",
       "      <td>...</td>\n",
       "      <td>1</td>\n",
       "      <td>7.1</td>\n",
       "      <td>draw</td>\n",
       "      <td>Everton</td>\n",
       "      <td>0</td>\n",
       "      <td>6.2</td>\n",
       "      <td>draw</td>\n",
       "      <td>Norwich City</td>\n",
       "      <td>0</td>\n",
       "      <td>6.7</td>\n",
       "    </tr>\n",
       "    <tr>\n",
       "      <th>3</th>\n",
       "      <td>Fabian Schär</td>\n",
       "      <td>Newcastle</td>\n",
       "      <td>Center Back</td>\n",
       "      <td>28.0</td>\n",
       "      <td>2019/20</td>\n",
       "      <td>79.0</td>\n",
       "      <td>Knee injury</td>\n",
       "      <td>Oct 20, 2019</td>\n",
       "      <td>Nov 24, 2019</td>\n",
       "      <td>lose</td>\n",
       "      <td>...</td>\n",
       "      <td>N.A.</td>\n",
       "      <td>N.A.</td>\n",
       "      <td>N.A.</td>\n",
       "      <td>N.A.</td>\n",
       "      <td>N.A.</td>\n",
       "      <td>N.A.</td>\n",
       "      <td>N.A.</td>\n",
       "      <td>N.A.</td>\n",
       "      <td>N.A.</td>\n",
       "      <td>N.A.</td>\n",
       "    </tr>\n",
       "    <tr>\n",
       "      <th>4</th>\n",
       "      <td>Fabian Schär</td>\n",
       "      <td>Newcastle</td>\n",
       "      <td>Center Back</td>\n",
       "      <td>28.0</td>\n",
       "      <td>2019/20</td>\n",
       "      <td>79.0</td>\n",
       "      <td>Hamstring strain</td>\n",
       "      <td>Jan 2, 2020</td>\n",
       "      <td>Jan 17, 2020</td>\n",
       "      <td>lose</td>\n",
       "      <td>...</td>\n",
       "      <td>0</td>\n",
       "      <td>6(S)</td>\n",
       "      <td>lose</td>\n",
       "      <td>Arsenal</td>\n",
       "      <td>-4</td>\n",
       "      <td>N.A.</td>\n",
       "      <td>lose</td>\n",
       "      <td>Crystal Palace</td>\n",
       "      <td>-1</td>\n",
       "      <td>6.5</td>\n",
       "    </tr>\n",
       "  </tbody>\n",
       "</table>\n",
       "<p>5 rows × 42 columns</p>\n",
       "</div>"
      ],
      "text/plain": [
       "               Name  Team Name     Position   Age   Season  FIFA rating  \\\n",
       "0               NaN        NaN          NaN   NaN      NaN          NaN   \n",
       "1               NaN        NaN          NaN   NaN      NaN          NaN   \n",
       "2  Jamaal Lascelles  Newcastle  Center Back  26.0  2019/20         77.0   \n",
       "3      Fabian Schär  Newcastle  Center Back  28.0  2019/20         79.0   \n",
       "4      Fabian Schär  Newcastle  Center Back  28.0  2019/20         79.0   \n",
       "\n",
       "             Injury Date of Injury Date of return Match results before injury  \\\n",
       "0               NaN            NaN            NaN                     Match 1   \n",
       "1               NaN            NaN            NaN                      Result   \n",
       "2       Knee injury    Nov 9, 2019   Jan 13, 2020                        draw   \n",
       "3       Knee injury   Oct 20, 2019   Nov 24, 2019                        lose   \n",
       "4  Hamstring strain    Jan 2, 2020   Jan 17, 2020                        lose   \n",
       "\n",
       "   ... Unnamed: 32    Unnamed: 33 Unnamed: 34 Unnamed: 35 Unnamed: 36  \\\n",
       "0  ...         NaN            NaN     Match 2         NaN         NaN   \n",
       "1  ...          GD  Player rating      Result  Opposition          GD   \n",
       "2  ...           1            7.1        draw     Everton           0   \n",
       "3  ...        N.A.           N.A.        N.A.        N.A.        N.A.   \n",
       "4  ...           0           6(S)        lose     Arsenal          -4   \n",
       "\n",
       "     Unnamed: 37 Unnamed: 38     Unnamed: 39 Unnamed: 40    Unnamed: 41  \n",
       "0            NaN     Match 3             NaN         NaN            NaN  \n",
       "1  Player rating      Result      Opposition          GD  Player rating  \n",
       "2            6.2        draw    Norwich City           0            6.7  \n",
       "3           N.A.        N.A.            N.A.        N.A.           N.A.  \n",
       "4           N.A.        lose  Crystal Palace          -1            6.5  \n",
       "\n",
       "[5 rows x 42 columns]"
      ]
     },
     "execution_count": 7,
     "metadata": {},
     "output_type": "execute_result"
    }
   ],
   "source": [
    "data = pd.read_csv(r\"C:\\Users\\45235\\Downloads\\player_injuries_impact.csv\")\n",
    "data.head()"
   ]
  },
  {
   "cell_type": "markdown",
   "id": "c5afbfa2-3886-482b-a6ad-faad2c22a031",
   "metadata": {},
   "source": [
    "## Data cleaning and Preprocessing"
   ]
  },
  {
   "cell_type": "code",
   "execution_count": 10,
   "id": "0afdc7f4-e368-4ab4-8f81-61370473d6a5",
   "metadata": {},
   "outputs": [],
   "source": [
    "#Drop unnamed columns\n",
    "data = data.loc[:,~data.columns.str.contains('^Unnamed')]\n",
    "#Convert data columns to datetime\n",
    "data['Date of Injury'] = pd.to_datetime(data['Date of Injury'], errors='coerce')\n",
    "data['Date of return'] = pd.to_datetime(data['Date of return'], errors='coerce')"
   ]
  },
  {
   "cell_type": "code",
   "execution_count": 11,
   "id": "77de059e-bea6-43c8-b80c-61c02d31e8d8",
   "metadata": {},
   "outputs": [
    {
     "data": {
      "text/plain": [
       "Name                            2\n",
       "Team Name                       2\n",
       "Position                        2\n",
       "Age                             2\n",
       "Season                          2\n",
       "FIFA rating                     2\n",
       "Injury                          2\n",
       "Date of Injury                 85\n",
       "Date of return                 90\n",
       "Match results before injury     0\n",
       "Missed match results            0\n",
       "Match results after injury      0\n",
       "dtype: int64"
      ]
     },
     "execution_count": 11,
     "metadata": {},
     "output_type": "execute_result"
    }
   ],
   "source": [
    "#Checking for missing values\n",
    "data.isnull().sum()"
   ]
  },
  {
   "cell_type": "markdown",
   "id": "b2d390fb-923f-4349-9a9c-0adf0518eac9",
   "metadata": {},
   "source": [
    "### Exploratory Data Analysis"
   ]
  },
  {
   "cell_type": "code",
   "execution_count": 16,
   "id": "e1114501-d4c8-4458-8e8d-833bab74720b",
   "metadata": {},
   "outputs": [
    {
     "data": {
      "image/png": "[encoded data removed]",
      "text/plain": [
       "<Figure size 640x480 with 1 Axes>"
      ]
     },
     "metadata": {},
     "output_type": "display_data"
    }
   ],
   "source": [
    "sns.countplot(y='Position', data=data)\n",
    "plt.title('Distribution of Player Positions')\n",
    "plt.show()"
   ]
  },
  {
   "cell_type": "code",
   "execution_count": 18,
   "id": "00f75b28-3923-4049-a068-0c65603de4c9",
   "metadata": {},
   "outputs": [
    {
     "data": {
      "image/png": "[encoded data removed]",
      "text/plain": [
       "<Figure size 640x480 with 2 Axes>"
      ]
     },
     "metadata": {},
     "output_type": "display_data"
    }
   ],
   "source": [
    "# Correlation heatmap for numeric columns\n",
    "numeric_data = data.select_dtypes(include=[np.number])\n",
    "sns.heatmap(numeric_data.corr(), annot=True, cmap='coolwarm')\n",
    "plt.title('Correlation Heatmap')\n",
    "plt.show()"
   ]
  },
  {
   "cell_type": "markdown",
   "id": "2aeefb19-5bd3-402f-ae52-3ec3d3e289d9",
   "metadata": {},
   "source": [
    "### Predictive Modeling"
   ]
  },
  {
   "cell_type": "code",
   "execution_count": 21,
   "id": "e6593131-2e82-4d50-8372-5363d1f0449a",
   "metadata": {},
   "outputs": [
    {
     "data": {
      "text/plain": [
       "(1.0, array([[132]]))"
      ]
     },
     "execution_count": 21,
     "metadata": {},
     "output_type": "execute_result"
    }
   ],
   "source": [
    "from sklearn.model_selection import train_test_split\n",
    "from sklearn.ensemble import RandomForestClassifier\n",
    "from sklearn.metrics import accuracy_score, confusion_matrix\n",
    "\n",
    "# Prepare the data for modeling\n",
    "features = ['Age', 'FIFA rating']\n",
    "X = data[features].fillna(0)\n",
    "y = data['Match results after injury'].apply(lambda x: 1 if x == 'Win' else 0)\n",
    "\n",
    "# Split the data\n",
    "X_train, X_test, y_train, y_test = train_test_split(X, y, test_size=0.2, random_state=42)\n",
    "\n",
    "# Train a Random Forest Classifier\n",
    "model = RandomForestClassifier(random_state=42)\n",
    "model.fit(X_train, y_train)\n",
    "\n",
    "# Predict and evaluate\n",
    "y_pred = model.predict(X_test)\n",
    "accuracy = accuracy_score(y_test, y_pred)\n",
    "conf_matrix = confusion_matrix(y_test, y_pred)\n",
    "\n",
    "accuracy, conf_matrix"
   ]
  },
  {
   "cell_type": "code",
   "execution_count": null,
   "id": "9f2f26de-c579-4fda-97ad-865629738bda",
   "metadata": {},
   "outputs": [],
   "source": []
  }
 ],
 "metadata": {
  "kernelspec": {
   "display_name": "Python 3 (ipykernel)",
   "language": "python",
   "name": "python3"
  },
  "language_info": {
   "codemirror_mode": {
    "name": "ipython",
    "version": 3
   },
   "file_extension": ".py",
   "mimetype": "text/x-python",
   "name": "python",
   "nbconvert_exporter": "python",
   "pygments_lexer": "ipython3",
   "version": "3.13.0"
  }
 },
 "nbformat": 4,
 "nbformat_minor": 5
}
